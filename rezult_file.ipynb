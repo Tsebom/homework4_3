{
 "cells": [
  {
   "cell_type": "code",
   "execution_count": 37,
   "metadata": {
    "collapsed": true
   },
   "outputs": [],
   "source": [
    "import requests\n",
    "from pprint import pprint\n",
    "\n",
    "import pandas as pd\n",
    "import numpy as np\n",
    "import matplotlib.pyplot as plt\n",
    "\n",
    "%matplotlib inline"
   ]
  },
  {
   "cell_type": "code",
   "execution_count": 38,
   "metadata": {
    "collapsed": true
   },
   "outputs": [],
   "source": [
    "from scipy.cluster.vq import whiten, kmeans2"
   ]
  },
  {
   "cell_type": "code",
   "execution_count": 39,
   "metadata": {
    "collapsed": true
   },
   "outputs": [],
   "source": [
    "def api(url):\n",
    "    rezult = requests.get(url, headers = { 'X-Auth-Token': '4e380561d0a04084953104c3e61d3060' }).json()\n",
    "    return rezult"
   ]
  },
  {
   "cell_type": "code",
   "execution_count": 40,
   "metadata": {
    "collapsed": true
   },
   "outputs": [],
   "source": [
    "def req(url):\n",
    "    rezult = requests.get(url).json()\n",
    "    return rezult"
   ]
  },
  {
   "cell_type": "code",
   "execution_count": 41,
   "metadata": {},
   "outputs": [
    {
     "name": "stdout",
     "output_type": "stream",
     "text": [
      "[{'_links': {'fixtures': {'href': 'http://api.football-data.org/v1/competitions/444/fixtures'},\n",
      "             'leagueTable': {'href': 'http://api.football-data.org/v1/competitions/444/leagueTable'},\n",
      "             'self': {'href': 'http://api.football-data.org/v1/competitions/444'},\n",
      "             'teams': {'href': 'http://api.football-data.org/v1/competitions/444/teams'}},\n",
      "  'caption': 'Campeonato Brasileiro da Série A',\n",
      "  'currentMatchday': 24,\n",
      "  'id': 444,\n",
      "  'lastUpdated': '2017-09-14T13:00:01Z',\n",
      "  'league': 'BSA',\n",
      "  'numberOfGames': 380,\n",
      "  'numberOfMatchdays': 38,\n",
      "  'numberOfTeams': 20,\n",
      "  'year': '2017'},\n",
      " {'_links': {'fixtures': {'href': 'http://api.football-data.org/v1/competitions/445/fixtures'},\n",
      "             'leagueTable': {'href': 'http://api.football-data.org/v1/competitions/445/leagueTable'},\n",
      "             'self': {'href': 'http://api.football-data.org/v1/competitions/445'},\n",
      "             'teams': {'href': 'http://api.football-data.org/v1/competitions/445/teams'}},\n",
      "  'caption': 'Premier League 2017/18',\n",
      "  'currentMatchday': 5,\n",
      "  'id': 445,\n",
      "  'lastUpdated': '2017-09-16T07:40:07Z',\n",
      "  'league': 'PL',\n",
      "  'numberOfGames': 380,\n",
      "  'numberOfMatchdays': 38,\n",
      "  'numberOfTeams': 20,\n",
      "  'year': '2017'},\n",
      " {'_links': {'fixtures': {'href': 'http://api.football-data.org/v1/competitions/446/fixtures'},\n",
      "             'leagueTable': {'href': 'http://api.football-data.org/v1/competitions/446/leagueTable'},\n",
      "             'self': {'href': 'http://api.football-data.org/v1/competitions/446'},\n",
      "             'teams': {'href': 'http://api.football-data.org/v1/competitions/446/teams'}},\n",
      "  'caption': 'Championship 2017/18',\n",
      "  'currentMatchday': 8,\n",
      "  'id': 446,\n",
      "  'lastUpdated': '2017-09-16T07:35:55Z',\n",
      "  'league': 'ELC',\n",
      "  'numberOfGames': 552,\n",
      "  'numberOfMatchdays': 46,\n",
      "  'numberOfTeams': 24,\n",
      "  'year': '2017'},\n",
      " {'_links': {'fixtures': {'href': 'http://api.football-data.org/v1/competitions/447/fixtures'},\n",
      "             'leagueTable': {'href': 'http://api.football-data.org/v1/competitions/447/leagueTable'},\n",
      "             'self': {'href': 'http://api.football-data.org/v1/competitions/447'},\n",
      "             'teams': {'href': 'http://api.football-data.org/v1/competitions/447/teams'}},\n",
      "  'caption': 'League One 2017/18',\n",
      "  'currentMatchday': 8,\n",
      "  'id': 447,\n",
      "  'lastUpdated': '2017-09-16T07:40:14Z',\n",
      "  'league': 'EL1',\n",
      "  'numberOfGames': 552,\n",
      "  'numberOfMatchdays': 46,\n",
      "  'numberOfTeams': 24,\n",
      "  'year': '2017'},\n",
      " {'_links': {'fixtures': {'href': 'http://api.football-data.org/v1/competitions/448/fixtures'},\n",
      "             'leagueTable': {'href': 'http://api.football-data.org/v1/competitions/448/leagueTable'},\n",
      "             'self': {'href': 'http://api.football-data.org/v1/competitions/448'},\n",
      "             'teams': {'href': 'http://api.football-data.org/v1/competitions/448/teams'}},\n",
      "  'caption': 'League Two 2017/18',\n",
      "  'currentMatchday': 8,\n",
      "  'id': 448,\n",
      "  'lastUpdated': '2017-09-16T07:40:19Z',\n",
      "  'league': 'EL2',\n",
      "  'numberOfGames': 552,\n",
      "  'numberOfMatchdays': 46,\n",
      "  'numberOfTeams': 24,\n",
      "  'year': '2017'},\n",
      " {'_links': {'fixtures': {'href': 'http://api.football-data.org/v1/competitions/449/fixtures'},\n",
      "             'leagueTable': {'href': 'http://api.football-data.org/v1/competitions/449/leagueTable'},\n",
      "             'self': {'href': 'http://api.football-data.org/v1/competitions/449'},\n",
      "             'teams': {'href': 'http://api.football-data.org/v1/competitions/449/teams'}},\n",
      "  'caption': 'Eredivisie 2017/18',\n",
      "  'currentMatchday': 5,\n",
      "  'id': 449,\n",
      "  'lastUpdated': '2017-09-16T07:40:21Z',\n",
      "  'league': 'DED',\n",
      "  'numberOfGames': 306,\n",
      "  'numberOfMatchdays': 34,\n",
      "  'numberOfTeams': 18,\n",
      "  'year': '2017'},\n",
      " {'_links': {'fixtures': {'href': 'http://api.football-data.org/v1/competitions/450/fixtures'},\n",
      "             'leagueTable': {'href': 'http://api.football-data.org/v1/competitions/450/leagueTable'},\n",
      "             'self': {'href': 'http://api.football-data.org/v1/competitions/450'},\n",
      "             'teams': {'href': 'http://api.football-data.org/v1/competitions/450/teams'}},\n",
      "  'caption': 'Ligue 1 2017/18',\n",
      "  'currentMatchday': 6,\n",
      "  'id': 450,\n",
      "  'lastUpdated': '2017-09-16T07:20:09Z',\n",
      "  'league': 'FL1',\n",
      "  'numberOfGames': 380,\n",
      "  'numberOfMatchdays': 38,\n",
      "  'numberOfTeams': 20,\n",
      "  'year': '2017'},\n",
      " {'_links': {'fixtures': {'href': 'http://api.football-data.org/v1/competitions/451/fixtures'},\n",
      "             'leagueTable': {'href': 'http://api.football-data.org/v1/competitions/451/leagueTable'},\n",
      "             'self': {'href': 'http://api.football-data.org/v1/competitions/451'},\n",
      "             'teams': {'href': 'http://api.football-data.org/v1/competitions/451/teams'}},\n",
      "  'caption': 'Ligue 2 2017/18',\n",
      "  'currentMatchday': 7,\n",
      "  'id': 451,\n",
      "  'lastUpdated': '2017-09-16T07:20:14Z',\n",
      "  'league': 'FL2',\n",
      "  'numberOfGames': 380,\n",
      "  'numberOfMatchdays': 38,\n",
      "  'numberOfTeams': 20,\n",
      "  'year': '2017'},\n",
      " {'_links': {'fixtures': {'href': 'http://api.football-data.org/v1/competitions/452/fixtures'},\n",
      "             'leagueTable': {'href': 'http://api.football-data.org/v1/competitions/452/leagueTable'},\n",
      "             'self': {'href': 'http://api.football-data.org/v1/competitions/452'},\n",
      "             'teams': {'href': 'http://api.football-data.org/v1/competitions/452/teams'}},\n",
      "  'caption': '1. Bundesliga 2017/18',\n",
      "  'currentMatchday': 4,\n",
      "  'id': 452,\n",
      "  'lastUpdated': '2017-09-15T20:40:14Z',\n",
      "  'league': 'BL1',\n",
      "  'numberOfGames': 306,\n",
      "  'numberOfMatchdays': 34,\n",
      "  'numberOfTeams': 18,\n",
      "  'year': '2017'},\n",
      " {'_links': {'fixtures': {'href': 'http://api.football-data.org/v1/competitions/453/fixtures'},\n",
      "             'leagueTable': {'href': 'http://api.football-data.org/v1/competitions/453/leagueTable'},\n",
      "             'self': {'href': 'http://api.football-data.org/v1/competitions/453'},\n",
      "             'teams': {'href': 'http://api.football-data.org/v1/competitions/453/teams'}},\n",
      "  'caption': '2. Bundesliga 2017/18',\n",
      "  'currentMatchday': 6,\n",
      "  'id': 453,\n",
      "  'lastUpdated': '2017-09-15T20:30:22Z',\n",
      "  'league': 'BL2',\n",
      "  'numberOfGames': 306,\n",
      "  'numberOfMatchdays': 34,\n",
      "  'numberOfTeams': 18,\n",
      "  'year': '2017'},\n",
      " {'_links': {'fixtures': {'href': 'http://api.football-data.org/v1/competitions/455/fixtures'},\n",
      "             'leagueTable': {'href': 'http://api.football-data.org/v1/competitions/455/leagueTable'},\n",
      "             'self': {'href': 'http://api.football-data.org/v1/competitions/455'},\n",
      "             'teams': {'href': 'http://api.football-data.org/v1/competitions/455/teams'}},\n",
      "  'caption': 'Primera Division 2017',\n",
      "  'currentMatchday': 4,\n",
      "  'id': 455,\n",
      "  'lastUpdated': '2017-09-16T07:40:24Z',\n",
      "  'league': 'PD',\n",
      "  'numberOfGames': 380,\n",
      "  'numberOfMatchdays': 38,\n",
      "  'numberOfTeams': 20,\n",
      "  'year': '2017'},\n",
      " {'_links': {'fixtures': {'href': 'http://api.football-data.org/v1/competitions/456/fixtures'},\n",
      "             'leagueTable': {'href': 'http://api.football-data.org/v1/competitions/456/leagueTable'},\n",
      "             'self': {'href': 'http://api.football-data.org/v1/competitions/456'},\n",
      "             'teams': {'href': 'http://api.football-data.org/v1/competitions/456/teams'}},\n",
      "  'caption': 'Serie A 2017/18',\n",
      "  'currentMatchday': 4,\n",
      "  'id': 456,\n",
      "  'lastUpdated': '2017-09-16T07:40:27Z',\n",
      "  'league': 'SA',\n",
      "  'numberOfGames': 380,\n",
      "  'numberOfMatchdays': 38,\n",
      "  'numberOfTeams': 20,\n",
      "  'year': '2017'},\n",
      " {'_links': {'fixtures': {'href': 'http://api.football-data.org/v1/competitions/457/fixtures'},\n",
      "             'leagueTable': {'href': 'http://api.football-data.org/v1/competitions/457/leagueTable'},\n",
      "             'self': {'href': 'http://api.football-data.org/v1/competitions/457'},\n",
      "             'teams': {'href': 'http://api.football-data.org/v1/competitions/457/teams'}},\n",
      "  'caption': 'Primeira Liga 2017/18',\n",
      "  'currentMatchday': 6,\n",
      "  'id': 457,\n",
      "  'lastUpdated': '2017-09-16T07:20:17Z',\n",
      "  'league': 'PPL',\n",
      "  'numberOfGames': 306,\n",
      "  'numberOfMatchdays': 34,\n",
      "  'numberOfTeams': 18,\n",
      "  'year': '2017'},\n",
      " {'_links': {'fixtures': {'href': 'http://api.football-data.org/v1/competitions/458/fixtures'},\n",
      "             'leagueTable': {'href': 'http://api.football-data.org/v1/competitions/458/leagueTable'},\n",
      "             'self': {'href': 'http://api.football-data.org/v1/competitions/458'},\n",
      "             'teams': {'href': 'http://api.football-data.org/v1/competitions/458/teams'}},\n",
      "  'caption': 'DFB-Pokal 2017/18',\n",
      "  'currentMatchday': 2,\n",
      "  'id': 458,\n",
      "  'lastUpdated': '2017-08-20T19:00:14Z',\n",
      "  'league': 'DFB',\n",
      "  'numberOfGames': 48,\n",
      "  'numberOfMatchdays': 6,\n",
      "  'numberOfTeams': 64,\n",
      "  'year': '2017'},\n",
      " {'_links': {'fixtures': {'href': 'http://api.football-data.org/v1/competitions/459/fixtures'},\n",
      "             'leagueTable': {'href': 'http://api.football-data.org/v1/competitions/459/leagueTable'},\n",
      "             'self': {'href': 'http://api.football-data.org/v1/competitions/459'},\n",
      "             'teams': {'href': 'http://api.football-data.org/v1/competitions/459/teams'}},\n",
      "  'caption': 'Serie B 2017/18',\n",
      "  'currentMatchday': 4,\n",
      "  'id': 459,\n",
      "  'lastUpdated': '2017-09-16T07:40:31Z',\n",
      "  'league': 'SB',\n",
      "  'numberOfGames': 462,\n",
      "  'numberOfMatchdays': 42,\n",
      "  'numberOfTeams': 22,\n",
      "  'year': '2017'},\n",
      " {'_links': {'fixtures': {'href': 'http://api.football-data.org/v1/competitions/464/fixtures'},\n",
      "             'leagueTable': {'href': 'http://api.football-data.org/v1/competitions/464/leagueTable'},\n",
      "             'self': {'href': 'http://api.football-data.org/v1/competitions/464'},\n",
      "             'teams': {'href': 'http://api.football-data.org/v1/competitions/464/teams'}},\n",
      "  'caption': 'Champions League 2017/18',\n",
      "  'currentMatchday': 1,\n",
      "  'id': 464,\n",
      "  'lastUpdated': '2017-09-13T20:50:12Z',\n",
      "  'league': 'CL',\n",
      "  'numberOfGames': 96,\n",
      "  'numberOfMatchdays': 10,\n",
      "  'numberOfTeams': 32,\n",
      "  'year': '2017'},\n",
      " {'_links': {'fixtures': {'href': 'http://api.football-data.org/v1/competitions/466/fixtures'},\n",
      "             'leagueTable': {'href': 'http://api.football-data.org/v1/competitions/466/leagueTable'},\n",
      "             'self': {'href': 'http://api.football-data.org/v1/competitions/466'},\n",
      "             'teams': {'href': 'http://api.football-data.org/v1/competitions/466/teams'}},\n",
      "  'caption': 'Australian A-League',\n",
      "  'currentMatchday': 1,\n",
      "  'id': 466,\n",
      "  'lastUpdated': '2017-09-07T08:00:09Z',\n",
      "  'league': 'AAL',\n",
      "  'numberOfGames': 135,\n",
      "  'numberOfMatchdays': 27,\n",
      "  'numberOfTeams': 10,\n",
      "  'year': '2017'}]\n"
     ]
    }
   ],
   "source": [
    "teams = api('http://api.football-data.org/v1/competitions')\n",
    "pprint(teams)"
   ]
  },
  {
   "cell_type": "code",
   "execution_count": 74,
   "metadata": {},
   "outputs": [
    {
     "name": "stdout",
     "output_type": "stream",
     "text": [
      "Кластеризация команд по количеству голов и побед в Premier League 2017/18\n",
      "\n",
      "[{'goals': 12, 'wins': 3},\n",
      " {'goals': 10, 'wins': 3},\n",
      " {'goals': 8, 'wins': 3},\n",
      " {'goals': 7, 'wins': 2},\n",
      " {'goals': 7, 'wins': 2},\n",
      " {'goals': 4, 'wins': 2},\n",
      " {'goals': 5, 'wins': 2},\n",
      " {'goals': 8, 'wins': 2},\n",
      " {'goals': 4, 'wins': 2},\n",
      " {'goals': 4, 'wins': 2},\n",
      " {'goals': 7, 'wins': 2},\n",
      " {'goals': 4, 'wins': 1},\n",
      " {'goals': 3, 'wins': 1},\n",
      " {'goals': 4, 'wins': 1},\n",
      " {'goals': 2, 'wins': 1},\n",
      " {'goals': 2, 'wins': 1},\n",
      " {'goals': 6, 'wins': 1},\n",
      " {'goals': 4, 'wins': 1},\n",
      " {'goals': 3, 'wins': 1},\n",
      " {'goals': 0, 'wins': 0}]\n"
     ]
    }
   ],
   "source": [
    "leagueTable = []\n",
    "for value in teams:\n",
    "    leagueTable.append(api(value['_links']['leagueTable']['href']))\n",
    "\n",
    "list_rezult = []\n",
    "for value in leagueTable[1]['standing']:\n",
    "    rezult = {}\n",
    "    rezult['goals'] = value['goals']\n",
    "    rezult['wins'] = value['wins']\n",
    "    list_rezult.append(rezult)\n",
    "\n",
    "print('Кластеризация команд по количеству голов и побед в Premier League 2017/18\\n')\n",
    "pprint(list_rezult)"
   ]
  },
  {
   "cell_type": "code",
   "execution_count": 44,
   "metadata": {},
   "outputs": [
    {
     "data": {
      "text/plain": [
       "array([[ 4.22681972,  3.78716642],\n",
       "       [ 3.52234977,  3.78716642],\n",
       "       [ 2.81787981,  3.78716642],\n",
       "       [ 2.46564484,  2.52477761],\n",
       "       [ 2.46564484,  2.52477761],\n",
       "       [ 1.40893991,  2.52477761],\n",
       "       [ 1.76117488,  2.52477761],\n",
       "       [ 2.81787981,  2.52477761],\n",
       "       [ 1.40893991,  2.52477761],\n",
       "       [ 1.40893991,  2.52477761],\n",
       "       [ 2.46564484,  2.52477761],\n",
       "       [ 1.40893991,  1.26238881],\n",
       "       [ 1.05670493,  1.26238881],\n",
       "       [ 1.40893991,  1.26238881],\n",
       "       [ 0.70446995,  1.26238881],\n",
       "       [ 0.70446995,  1.26238881],\n",
       "       [ 2.11340986,  1.26238881],\n",
       "       [ 1.40893991,  1.26238881],\n",
       "       [ 1.05670493,  1.26238881],\n",
       "       [ 0.        ,  0.        ]])"
      ]
     },
     "execution_count": 44,
     "metadata": {},
     "output_type": "execute_result"
    }
   ],
   "source": [
    "\n",
    "go = pd.DataFrame(list_rezult)\n",
    "go_array = whiten(go.as_matrix())\n",
    "go_array"
   ]
  },
  {
   "cell_type": "code",
   "execution_count": 69,
   "metadata": {},
   "outputs": [
    {
     "data": {
      "text/plain": [
       "<matplotlib.axes._subplots.AxesSubplot at 0x276fcdc0588>"
      ]
     },
     "execution_count": 69,
     "metadata": {},
     "output_type": "execute_result"
    },
    {
     "data": {
      "image/png": "[encoded data removed]",
      "text/plain": [
       "<matplotlib.figure.Figure at 0x276fcee75f8>"
      ]
     },
     "metadata": {},
     "output_type": "display_data"
    }
   ],
   "source": [
    "centroids, cluster_map = kmeans2(go_array, 3)\n",
    "colors_map = {0: 'r', 1: 'g', 2: 'b', 3: 'y', 4: 'm'}\n",
    "colors = [colors_map[c] for c in cluster_map]\n",
    "go.plot.scatter(x='wins', y='goals', c=colors, s=100)"
   ]
  },
  {
   "cell_type": "code",
   "execution_count": 71,
   "metadata": {},
   "outputs": [
    {
     "data": {
      "text/plain": [
       "<matplotlib.axes._subplots.AxesSubplot at 0x276fd0860f0>"
      ]
     },
     "execution_count": 71,
     "metadata": {},
     "output_type": "execute_result"
    },
    {
     "data": {
      "image/png": "[encoded data removed]",
      "text/plain": [
       "<matplotlib.figure.Figure at 0x276fd096d30>"
      ]
     },
     "metadata": {},
     "output_type": "display_data"
    }
   ],
   "source": [
    "centroids, cluster_map = kmeans2(go_array, 5)\n",
    "colors_map = {0: 'r', 1: 'g', 2: 'b', 3: 'y', 4: 'm'}\n",
    "colors = [colors_map[c] for c in cluster_map]\n",
    "go.plot.scatter(x='wins', y='goals', c=colors, s=100)"
   ]
  },
  {
   "cell_type": "code",
   "execution_count": null,
   "metadata": {
    "collapsed": true
   },
   "outputs": [],
   "source": []
  }
 ],
 "metadata": {
  "kernelspec": {
   "display_name": "Python 3",
   "language": "python",
   "name": "python3"
  },
  "language_info": {
   "codemirror_mode": {
    "name": "ipython",
    "version": 3
   },
   "file_extension": ".py",
   "mimetype": "text/x-python",
   "name": "python",
   "nbconvert_exporter": "python",
   "pygments_lexer": "ipython3",
   "version": "3.6.1"
  }
 },
 "nbformat": 4,
 "nbformat_minor": 2
}
